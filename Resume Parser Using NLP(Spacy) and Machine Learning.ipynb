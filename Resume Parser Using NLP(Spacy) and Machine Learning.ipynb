{
 "cells": [
  {
   "cell_type": "markdown",
   "id": "a3bd2661",
   "metadata": {},
   "source": [
    "# Building a Resume Parser using NLP(Spacy) and Machine Learning\n",
    "## by Bhushan Sonawane"
   ]
  },
  {
   "cell_type": "code",
   "execution_count": 1,
   "id": "d545f17e",
   "metadata": {},
   "outputs": [],
   "source": [
    "import docx2txt\n",
    "from PyPDF2 import PdfFileReader, PdfFileWriter, PdfFileMerger, PdfReader"
   ]
  },
  {
   "cell_type": "code",
   "execution_count": 2,
   "id": "61ef3272",
   "metadata": {},
   "outputs": [],
   "source": [
    "#Extracting text from docx\n",
    "def doctotext(m):\n",
    "    temp = docx2txt.process(m)\n",
    "    resume_text = [line.replace('\\t', '') for line in temp.split('\\n') if line]\n",
    "    text = ''.join(resume_text)\n",
    "    return(text)"
   ]
  },
  {
   "cell_type": "code",
   "execution_count": 3,
   "id": "90a54dd3",
   "metadata": {},
   "outputs": [],
   "source": [
    "#Extracting text from PDF\n",
    "def pdftotext(m):\n",
    "    pdfFileObj = open(m, 'rb')\n",
    "    pdfFileReader = PdfReader(pdfFileObj)\n",
    "    num_pages = len(pdfFileReader.pages)\n",
    "    currentPageNumber = 0\n",
    "    text = ''\n",
    "    while(currentPageNumber < num_pages):\n",
    "        pdfPage = pdfFileReader.pages[currentPageNumber]\n",
    "        text = text + pdfPage.extract_text()\n",
    "        currentPageNumber += 1\n",
    "    return (text)"
   ]
  },
  {
   "cell_type": "code",
   "execution_count": 4,
   "id": "68a7d912",
   "metadata": {},
   "outputs": [],
   "source": [
    "if __name__ == '__main__':\n",
    "    FilePath = 'C:/Users/dell/Downloads/Stockholm-Resume-Template-Simple.pdf'\n",
    "    FilePath.lower().endswith(('png','docx'))\n",
    "    if FilePath.endswith('.docx'):\n",
    "        textinput = doctotext(FilePath)\n",
    "    elif FilePath.endswith('.pdf'):\n",
    "        textinput = pdftotext(FilePath)\n",
    "    else:\n",
    "        print('File Not Supported')"
   ]
  },
  {
   "cell_type": "code",
   "execution_count": 5,
   "id": "8fb8b385",
   "metadata": {},
   "outputs": [],
   "source": [
    "import re\n",
    "import nltk"
   ]
  },
  {
   "cell_type": "code",
   "execution_count": 6,
   "id": "2292defc",
   "metadata": {},
   "outputs": [
    {
     "name": "stderr",
     "output_type": "stream",
     "text": [
      "[nltk_data] Downloading package stopwords to\n",
      "[nltk_data]     C:\\Users\\dell\\AppData\\Roaming\\nltk_data...\n",
      "[nltk_data]   Package stopwords is already up-to-date!\n",
      "[nltk_data] Downloading package punkt to\n",
      "[nltk_data]     C:\\Users\\dell\\AppData\\Roaming\\nltk_data...\n",
      "[nltk_data]   Package punkt is already up-to-date!\n",
      "[nltk_data] Downloading package averaged_perceptron_tagger to\n",
      "[nltk_data]     C:\\Users\\dell\\AppData\\Roaming\\nltk_data...\n",
      "[nltk_data]   Package averaged_perceptron_tagger is already up-to-\n",
      "[nltk_data]       date!\n",
      "[nltk_data] Downloading package maxent_ne_chunker to\n",
      "[nltk_data]     C:\\Users\\dell\\AppData\\Roaming\\nltk_data...\n",
      "[nltk_data]   Package maxent_ne_chunker is already up-to-date!\n",
      "[nltk_data] Downloading package words to\n",
      "[nltk_data]     C:\\Users\\dell\\AppData\\Roaming\\nltk_data...\n",
      "[nltk_data]   Package words is already up-to-date!\n"
     ]
    },
    {
     "data": {
      "text/plain": [
       "True"
      ]
     },
     "execution_count": 6,
     "metadata": {},
     "output_type": "execute_result"
    }
   ],
   "source": [
    "nltk.download('stopwords')\n",
    "from nltk.corpus import stopwords\n",
    "stop = stopwords.words('english')\n",
    "nltk.download('punkt')\n",
    "nltk.download('averaged_perceptron_tagger')\n",
    "nltk.download('maxent_ne_chunker')\n",
    "nltk.download('words')"
   ]
  },
  {
   "cell_type": "markdown",
   "id": "98dbf9f3",
   "metadata": {},
   "source": [
    "### Extracting Name"
   ]
  },
  {
   "cell_type": "code",
   "execution_count": 7,
   "id": "fa7efc36",
   "metadata": {},
   "outputs": [],
   "source": [
    "import spacy"
   ]
  },
  {
   "cell_type": "code",
   "execution_count": 8,
   "id": "ed4cfeb2",
   "metadata": {},
   "outputs": [],
   "source": [
    "import en_core_web_sm\n",
    "from spacy.matcher import Matcher"
   ]
  },
  {
   "cell_type": "code",
   "execution_count": 9,
   "id": "f27bc132",
   "metadata": {},
   "outputs": [],
   "source": [
    "# load pre-trained model\n",
    "nlp = en_core_web_sm.load()\n",
    "# initialize matcher\n",
    "matcher = Matcher(nlp.vocab)"
   ]
  },
  {
   "cell_type": "code",
   "execution_count": 10,
   "id": "814e023b",
   "metadata": {},
   "outputs": [
    {
     "name": "stdout",
     "output_type": "stream",
     "text": [
      "Name:  Jason Miller\n"
     ]
    }
   ],
   "source": [
    "def extract_name(resume_text):\n",
    "    nlp_text = nlp(resume_text)\n",
    "    pattern = [{'POS': 'PROPN'},{'POS': 'PROPN'}]\n",
    "    matcher.add('NAME', [pattern])\n",
    "    matches = matcher(nlp_text)\n",
    "    for match_id, start, end in matches:\n",
    "        span = nlp_text[start:end]\n",
    "        return span.text\n",
    "print('Name: ', extract_name(textinput))"
   ]
  },
  {
   "cell_type": "markdown",
   "id": "a86c67f1",
   "metadata": {},
   "source": [
    "### Extracting Qualifications"
   ]
  },
  {
   "cell_type": "code",
   "execution_count": 11,
   "id": "b278b74f",
   "metadata": {},
   "outputs": [],
   "source": [
    "STOPWORDS = set(stopwords.words('english'))"
   ]
  },
  {
   "cell_type": "code",
   "execution_count": 12,
   "id": "ec98525a",
   "metadata": {},
   "outputs": [],
   "source": [
    "EDUCATION = [\n",
    "    'BE', 'B.E.', 'B.E', 'BS', 'B.S',\n",
    "    'ME', 'M.E.', 'M.E', 'M.B.A', 'MBA', 'MS', 'M.S',\n",
    "    'BTECH', 'B.TECH', 'M.TECH', 'MTECH',\n",
    "    'SSLC', 'SSC', 'HSC', 'CBSE', 'ICSE', 'X', 'XII'\n",
    "]"
   ]
  },
  {
   "cell_type": "code",
   "execution_count": 13,
   "id": "578c31ec",
   "metadata": {},
   "outputs": [],
   "source": [
    "def extract_education(resume_text):\n",
    "    nlp_text = nlp(resume_text)\n",
    "    nlp_text = [sent.text.strip() for sent in nlp_text.sents]\n",
    "    edu = {}\n",
    "    for index, text in enumerate(nlp_text):\n",
    "        for tex in text.split():\n",
    "            tex = re.sub(r'[?|$|.|!|,]', r'', tex)\n",
    "            if tex.upper() in EDUCATION and tex not in STOPWORDS:\n",
    "                edu[tex] = text + nlp_text[index + 1]\n",
    "                \n",
    "    #Extract year\n",
    "    education = []\n",
    "    for key in edu.keys():\n",
    "        year = re.search(re.compile(r'(((20|19)(\\d{})))'), edu[key])\n",
    "        if year:\n",
    "            education.append((key, '', join(year[0])))\n",
    "        else:\n",
    "            education.append(key)\n",
    "    return education"
   ]
  },
  {
   "cell_type": "code",
   "execution_count": 14,
   "id": "bfb4262d",
   "metadata": {},
   "outputs": [
    {
     "name": "stdout",
     "output_type": "stream",
     "text": [
      "Qualifications:  []\n"
     ]
    }
   ],
   "source": [
    "print('Qualifications: ', extract_education(textinput))"
   ]
  },
  {
   "cell_type": "markdown",
   "id": "1435ee1c",
   "metadata": {},
   "source": [
    "### Extracting Skills"
   ]
  },
  {
   "cell_type": "code",
   "execution_count": 15,
   "id": "b17b1266",
   "metadata": {},
   "outputs": [],
   "source": [
    "import pandas as pd\n",
    "import spacy"
   ]
  },
  {
   "cell_type": "code",
   "execution_count": 16,
   "id": "e0e552c0",
   "metadata": {},
   "outputs": [],
   "source": [
    "nlp = spacy.load('en_core_web_sm')"
   ]
  },
  {
   "cell_type": "code",
   "execution_count": null,
   "id": "486c04c2",
   "metadata": {},
   "outputs": [],
   "source": [
    "def extract_skills(resume_text):\n",
    "    nlp_text = nlp(resume_text)\n",
    "    nlp_text = [sent.text.strip() for sent in nlp_text.sents]\n",
    "    \n",
    "    #removing stopwords and implementing word tokenization\n",
    "    tokens = [token.text for token in nlp_text if not token.is_stop]\n",
    "    colnames = ['skill']\n",
    "    \n",
    "    #extract values\n",
    "    skills = textinput.skill.tolist()\n",
    "    print(skills)\n",
    "    skillset = []\n",
    "    \n",
    "    for token in tokens:\n",
    "        if token.lower() in skills:\n",
    "            skillset.append(token)\n",
    "            \n",
    "    noun_chunks = nlp.noun_chunks\n",
    "    for token in noun_chunks:\n",
    "        token = token.text.lower().strip()\n",
    "        if token in skills:\n",
    "            skillset.append(token)\n",
    "    return [i.capitalize() for i in set([i.lower() for i in skillset])]\n",
    "\n",
    "print('Skills', extract_skills(textinput))"
   ]
  },
  {
   "cell_type": "markdown",
   "id": "866b656c",
   "metadata": {},
   "source": [
    "### Extract Mobile Number"
   ]
  },
  {
   "cell_type": "code",
   "execution_count": 18,
   "id": "5e1967e5",
   "metadata": {},
   "outputs": [
    {
     "name": "stdout",
     "output_type": "stream",
     "text": [
      "Mobile Number:  386868344\n"
     ]
    }
   ],
   "source": [
    "def extract_mobile_number(resume_text):\n",
    "    phone = re.findall(re.compile(r'(?:(?:\\+?([1-9]|[0-9][0-9]|[0-9][0-9][0-9])\\s*(?:[.-]\\s*)?:\\(\\s*([2-9]1[02-9]|[2-9][02-8]1|[2-9][02-8][02-9])\\s*\\)|([0-9][1-9]|[0-9]1[02-9]|[2-9][02-8]1|[2-9][02-8][02-9]))\\s*(?:[.-]\\s*)?)?([2-9]1[02-9]|[2-9][02-9]1|[2-9][02-9]{2})\\s*(?:[.-]\\s*)?([0-9]{4})(?:\\s*(?:#|x\\.?|ext\\.?|extension)\\s*(\\d+))?'),resume_text)\n",
    "    \n",
    "    if phone:\n",
    "        number = ''.join(phone[0])\n",
    "        if len(number) > 10:\n",
    "            return number\n",
    "        else:\n",
    "            return number\n",
    "print('Mobile Number: ', extract_mobile_number(textinput))"
   ]
  },
  {
   "cell_type": "markdown",
   "id": "1555c825",
   "metadata": {},
   "source": [
    "### Extract email"
   ]
  },
  {
   "cell_type": "code",
   "execution_count": 19,
   "id": "979eeaac",
   "metadata": {},
   "outputs": [
    {
     "name": "stdout",
     "output_type": "stream",
     "text": [
      "Mail id:  ['email@email.com']\n"
     ]
    }
   ],
   "source": [
    "def extract_email_address(string):\n",
    "    r = re.compile(r'[\\w\\.-]+@[\\w\\.-]+')\n",
    "    return r.findall(string)\n",
    "print('Mail id: ', extract_email_address(textinput))"
   ]
  }
 ],
 "metadata": {
  "kernelspec": {
   "display_name": "Python 3 (ipykernel)",
   "language": "python",
   "name": "python3"
  },
  "language_info": {
   "codemirror_mode": {
    "name": "ipython",
    "version": 3
   },
   "file_extension": ".py",
   "mimetype": "text/x-python",
   "name": "python",
   "nbconvert_exporter": "python",
   "pygments_lexer": "ipython3",
   "version": "3.9.12"
  }
 },
 "nbformat": 4,
 "nbformat_minor": 5
}
